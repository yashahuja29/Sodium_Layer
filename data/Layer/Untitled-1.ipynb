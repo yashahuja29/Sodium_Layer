{
 "cells": [
  {
   "cell_type": "code",
   "execution_count": 3,
   "metadata": {},
   "outputs": [],
   "source": [
    "from PIL import Image\n",
    "import os\n",
    "\n",
    "def crop_images(input_folder, output_folder, crop_box):\n",
    "    # Ensure output folder exists\n",
    "    if not os.path.exists(output_folder):\n",
    "        os.makedirs(output_folder)\n",
    "\n",
    "    # Iterate through all files in the input folder\n",
    "    for filename in os.listdir(input_folder):\n",
    "        if filename.endswith(('.png', '.jpg', '.jpeg')):\n",
    "            # Open the image\n",
    "            image_path = os.path.join(input_folder, filename)\n",
    "            img = Image.open(image_path)\n",
    "\n",
    "            # Crop the image\n",
    "            cropped_img = img.crop(crop_box)\n",
    "\n",
    "            # Save the cropped image to the output folder\n",
    "            output_path = os.path.join(output_folder, filename)\n",
    "            cropped_img.save(output_path)\n",
    "\n",
    "if __name__ == \"__main__\":\n",
    "    # Specify your input and output folders\n",
    "    input_folder = \"/Users/yashahuja/Downloads/content/Dataset/Not Defined\"\n",
    "    output_folder = \"/Users/yashahuja/Downloads/content/Not_defined\"\n",
    "\n",
    "    # Specify the crop box (left, upper, right, lower)\n",
    "    crop_box = (92, 28, 1157, 466)\n",
    "\n",
    "    # Call the function to crop images\n",
    "    crop_images(input_folder, output_folder, crop_box)\n"
   ]
  },
  {
   "cell_type": "code",
   "execution_count": null,
   "metadata": {},
   "outputs": [],
   "source": []
  }
 ],
 "metadata": {
  "kernelspec": {
   "display_name": "base",
   "language": "python",
   "name": "python3"
  },
  "language_info": {
   "codemirror_mode": {
    "name": "ipython",
    "version": 3
   },
   "file_extension": ".py",
   "mimetype": "text/x-python",
   "name": "python",
   "nbconvert_exporter": "python",
   "pygments_lexer": "ipython3",
   "version": "3.11.4"
  }
 },
 "nbformat": 4,
 "nbformat_minor": 2
}
